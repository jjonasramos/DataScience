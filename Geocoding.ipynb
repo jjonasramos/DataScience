{
 "cells": [
  {
   "cell_type": "code",
   "execution_count": null,
   "metadata": {},
   "outputs": [],
   "source": [
    "## Imports\n",
    "\n",
    "import json\n",
    "import requests\n",
    "import pandas as pd"
   ]
  },
  {
   "cell_type": "code",
   "execution_count": null,
   "metadata": {},
   "outputs": [],
   "source": [
    "## Conexões\n",
    "\n",
    "api_token = '00ac4465fcf7cc1c220062efd3fe4616'\n",
    "api_url_base = 'http://www.cepaberto.com/api/v3/'\n",
    "\n",
    "headers = {'Content-Type': 'application/json',\n",
    "           'Authorization': 'Token token={0}'.format(api_token)}\n",
    "\n",
    "states = ['RO', 'AC', 'AM', 'RR', 'PA', 'AP', 'TO', 'MA', 'PI', 'CE', 'RN', 'PB', 'PE', 'AL', 'SE', 'BA', 'MG', 'ES', 'RJ', 'SP', 'PR', 'SC', 'RS', 'MS', 'MT', 'GO', 'DF']\n",
    "\n",
    "uf_result = []"
   ]
  },
  {
   "cell_type": "code",
   "execution_count": null,
   "metadata": {},
   "outputs": [],
   "source": [
    "## Métodos\n",
    "\n",
    "def get_LatLong(city, uf):\n",
    "\n",
    "    api_url = '{}/address?estado={}&cidade={}'.format(api_url_base, uf, city)\n",
    "    \n",
    "    response = requests.get(api_url, headers=headers)\n",
    "    data = response.json()\n",
    "    d['latitude'] = data[0]['latitude']\n",
    "    d['longitude'] = data[0]['longitude']\n",
    "\n",
    "    return d\n",
    "        \n",
    "def get_Detail(uf):\n",
    "    \n",
    "    api_url = '{}/cities?estado={}'.format(api_url_base, uf)\n",
    "    \n",
    "    response = requests.get(api_url, headers=headers)\n",
    "    data = response.json()\n",
    "        \n",
    "    for item in data:\n",
    "            uf_details = {\"Município\": None, \"UF\": None, \"Latitude\": None, \"Longitude\": None}\n",
    "            details = get_LatLong(item['nome'], uf)\n",
    "            uf_details['Município'] = item['nome']\n",
    "            uf_details['UF'] = uf\n",
    "            uf_result.append(uf_details)\n"
   ]
  },
  {
   "cell_type": "code",
   "execution_count": 32,
   "metadata": {},
   "outputs": [
    {
     "name": "stdout",
     "output_type": "stream",
     "text": [
      "comecei\n",
      "0\n",
      "RO\n",
      "1\n",
      "Decoding JSON has failed\n",
      "2\n",
      "AM\n",
      "3\n",
      "RR\n",
      "4\n",
      "PA\n",
      "5\n",
      "Decoding JSON has failed\n",
      "6\n",
      "TO\n",
      "7\n",
      "MA\n",
      "8\n",
      "PI\n",
      "9\n",
      "CE\n",
      "10\n",
      "Decoding JSON has failed\n",
      "11\n",
      "PB\n",
      "12\n",
      "Decoding JSON has failed\n",
      "13\n",
      "AL\n",
      "14\n",
      "Decoding JSON has failed\n",
      "15\n",
      "BA\n",
      "16\n",
      "Decoding JSON has failed\n",
      "17\n",
      "ES\n",
      "18\n",
      "RJ\n",
      "19\n",
      "Decoding JSON has failed\n",
      "20\n",
      "PR\n",
      "21\n",
      "SC\n",
      "22\n",
      "RS\n",
      "23\n",
      "MS\n",
      "24\n",
      "MT\n",
      "25\n",
      "Decoding JSON has failed\n",
      "26\n",
      "DF\n"
     ]
    }
   ],
   "source": [
    "for i in range(len(states)):\n",
    "\n",
    "    api_url = '{}/cities?estado={}'.format(api_url_base, states[i])\n",
    "    \n",
    "    try:\n",
    "        response = requests.get(api_url, headers=headers)\n",
    "        data = response.json()\n",
    "        \n",
    "        for item in data:\n",
    "            uf_details = {\"Município\": None, \"UF\": None}\n",
    "            uf_details['Município'] = item['nome']\n",
    "            uf_details['UF'] = states[i]\n",
    "            uf_result.append(uf_details)\n",
    "    except ValueError:\n",
    "        print ('Decoding JSON has failed')\n",
    "        i -= 1\n",
    "    \n",
    "df = pd.DataFrame(data=uf_result)"
   ]
  },
  {
   "cell_type": "code",
   "execution_count": 34,
   "metadata": {},
   "outputs": [],
   "source": [
    "df.to_csv('teste_dados.csv')"
   ]
  },
  {
   "cell_type": "code",
   "execution_count": 36,
   "metadata": {},
   "outputs": [
    {
     "data": {
      "text/plain": [
       "{'Município': 'Abunã (Porto Velho)', 'UF': 'RO'}"
      ]
     },
     "execution_count": 36,
     "metadata": {},
     "output_type": "execute_result"
    }
   ],
   "source": [
    "'''\n",
    "api_url = '{}/cities?estado={}'.format(api_url_base, )\n",
    "response = requests.get(api_url, headers=headers)\n",
    "data = response.json()\n",
    "data\n",
    "'''\n",
    "\n",
    "uf_result[0]"
   ]
  }
 ],
 "metadata": {
  "kernelspec": {
   "display_name": "Python 3",
   "language": "python",
   "name": "python3"
  },
  "language_info": {
   "codemirror_mode": {
    "name": "ipython",
    "version": 3
   },
   "file_extension": ".py",
   "mimetype": "text/x-python",
   "name": "python",
   "nbconvert_exporter": "python",
   "pygments_lexer": "ipython3",
   "version": "3.7.3"
  }
 },
 "nbformat": 4,
 "nbformat_minor": 2
}
